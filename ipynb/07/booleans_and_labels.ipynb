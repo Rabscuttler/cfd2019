{
 "cells": [
  {
   "cell_type": "markdown",
   "metadata": {},
   "source": [
    "We have already used Boolean series to index data frames and other series.\n",
    "\n",
    "This page gives a little more details about how that works, in order to explain\n",
    "some subtleties in results."
   ]
  },
  {
   "cell_type": "markdown",
   "metadata": {},
   "source": [
    "We return to the World Bank statistics on development and gender in\n",
    "[gender_stats.csv](https://matthew-brett.github.io/cfd2019/data/gender_stats.csv).\n",
    "\n",
    "Download that file to the same directory as this notebook, if you are running\n",
    "on your own computer.\n",
    "\n",
    "Here we pull out the rows for the countries with the highest Gross Domestic\n",
    "Product. This may be familiar from the [data frame intro](https://matthew-brett.github.io/cfd2019chapters/03/data_frame_intro) and the [Pandas indexing page](https://matthew-brett.github.io/cfd2019chapters/07/pandas_indexing)."
   ]
  },
  {
   "cell_type": "code",
   "execution_count": null,
   "metadata": {},
   "outputs": [],
   "source": [
    "import numpy as np\n",
    "import pandas as pd"
   ]
  },
  {
   "cell_type": "code",
   "execution_count": null,
   "metadata": {},
   "outputs": [],
   "source": [
    "# Load the data file as a data frame.\n",
    "gender_data = pd.read_csv('gender_stats.csv')\n",
    "\n",
    "# Sort by GDP.\n",
    "df_by_gdp = gender_data.sort_values('gdp_us_billion', ascending=False)\n",
    "# Take the top 5 rows.\n",
    "richest_5 = df_by_gdp.head(5)\n",
    "richest_5"
   ]
  },
  {
   "cell_type": "markdown",
   "metadata": {},
   "source": [
    "Consider the index (row labels) of this 5-row data frame:"
   ]
  },
  {
   "cell_type": "code",
   "execution_count": null,
   "metadata": {},
   "outputs": [],
   "source": [
    "richest_5.index"
   ]
  },
  {
   "cell_type": "markdown",
   "metadata": {},
   "source": [
    "Now let us say we want to select some of these rows with Boolean indexing. Here\n",
    "is a Boolean series with True for rows where `health_exp_per_cap` is greater\n",
    "than 3500 dollars, False otherwise."
   ]
  },
  {
   "cell_type": "code",
   "execution_count": null,
   "metadata": {},
   "outputs": [],
   "source": [
    "# Create a Boolean series with True for big spender rows, False otherwise.\n",
    "is_big_spender = richest_5['health_exp_per_cap'] > 3500\n",
    "is_big_spender"
   ]
  },
  {
   "cell_type": "markdown",
   "metadata": {},
   "source": [
    "Notice that this Series, like all Series, has an index, which is the same as\n",
    "the index from the Series we used to make it\n",
    "(`richest_5['health_exp_per_cap']`), and therefore, the same as the index for\n",
    "the data frame (`richest_5`)."
   ]
  },
  {
   "cell_type": "code",
   "execution_count": null,
   "metadata": {},
   "outputs": [],
   "source": [
    "is_big_spender.index"
   ]
  },
  {
   "cell_type": "markdown",
   "metadata": {},
   "source": [
    "Let's say we are interested in the `country_name` for countries spending more\n",
    "than 3500 dollars per capita on health care.  We can do this with, for example,\n",
    "`loc`:"
   ]
  },
  {
   "cell_type": "code",
   "execution_count": null,
   "metadata": {},
   "outputs": [],
   "source": [
    "richest_5.loc[is_big_spender, 'country_name']"
   ]
  },
  {
   "cell_type": "markdown",
   "metadata": {},
   "source": [
    "`loc` gives us the rows for which *corresponding* elements in  `is_big_spender`\n",
    "are True.\n",
    "\n",
    "But what does *corresponding* mean?   Does it mean corresponding in terms of\n",
    "position?   Or in terms of index?\n",
    "\n",
    "Here's the Boolean series again:"
   ]
  },
  {
   "cell_type": "code",
   "execution_count": null,
   "metadata": {},
   "outputs": [],
   "source": [
    "is_big_spender"
   ]
  },
  {
   "cell_type": "markdown",
   "metadata": {},
   "source": [
    "Or does it mean *corresponding* in terms of *labels*.  So, take the row from\n",
    "Does *corresponding* mean corresponding in terms of *position*?  In that case we take the first row of `richest_5` (because the first element in `is_big_spender` is True) but not the second row (because the second element in `is_big_spender` is False) and so on?\n",
    "\n",
    "`richest_5` with label 202 (because the element labeled 202 in `is_big_spender`\n",
    "is True), but do not take the row labeled 35 (because the element labeled 35 in\n",
    "`is_big_spender` is False), and so on."
   ]
  },
  {
   "cell_type": "markdown",
   "metadata": {},
   "source": [
    "We cannot distinguish between *position* and *labels* at the moment, because\n",
    "the order of the labels is the same in the data frame `richest_5` and the\n",
    "series `is_big_spender`, so *positions* and *labels* will give the same answer."
   ]
  },
  {
   "cell_type": "markdown",
   "metadata": {},
   "source": [
    "We can distinguish when the order of the labels is not the same in the Boolean\n",
    "series and the data frame.  For example, we can sort the series, like this:"
   ]
  },
  {
   "cell_type": "code",
   "execution_count": null,
   "metadata": {},
   "outputs": [],
   "source": [
    "sorted_is_big_spender = is_big_spender.sort_values()\n",
    "sorted_is_big_spender"
   ]
  },
  {
   "cell_type": "markdown",
   "metadata": {},
   "source": [
    "Now the order of the row labels is different in the series (above) and the data frame (below):"
   ]
  },
  {
   "cell_type": "code",
   "execution_count": null,
   "metadata": {},
   "outputs": [],
   "source": [
    "richest_5.index"
   ]
  },
  {
   "cell_type": "markdown",
   "metadata": {},
   "source": [
    "If we index with this sorted series, and the indexing is using the *position*\n",
    "of the True and False values, we would expect to see the last three rows,\n",
    "because the values in the last three positions are True (and the others are\n",
    "False).\n",
    "\n",
    "If the indexing is using *labels*, then we expect to get the same answer we got\n",
    "before, because the relationship between the True / False values and labels\n",
    "hasn't changed - the elements labeled 202, 97 and 49 have True values, so we\n",
    "expect to see those rows in the result.  So (drum roll):"
   ]
  },
  {
   "cell_type": "code",
   "execution_count": null,
   "metadata": {},
   "outputs": [],
   "source": [
    "richest_5.loc[sorted_is_big_spender, 'country_name']"
   ]
  },
  {
   "cell_type": "markdown",
   "metadata": {},
   "source": [
    "The result the same as for the not-sorted series - and we have found that `loc`\n",
    "indexing is using the *labels*, even with a Boolean series.\n",
    "\n",
    "On reflection, maybe that is not surprising - after all, `loc` [we already\n",
    "know](pandas_indexing) that `loc` indexing is indexing by *label*."
   ]
  },
  {
   "cell_type": "markdown",
   "metadata": {},
   "source": [
    "We usually will not have to worry about the difference between labels and\n",
    "positions in Boolean Series, because, usually, the row labels and positions are\n",
    "the same in the thing we index (data frame, or Series) and the Boolean series\n",
    "we use for indexing.  This was the case at the top of this page, and in all\n",
    "previous times you have seen Boolean indexing on data frames or series."
   ]
  },
  {
   "cell_type": "markdown",
   "metadata": {},
   "source": [
    "## What about iloc?"
   ]
  },
  {
   "cell_type": "markdown",
   "metadata": {},
   "source": [
    "We know that `iloc` does indexing by *position* - so what approach does `iloc`\n",
    "take to the labels on a Boolean series?\n",
    "\n",
    "We guess that `iloc` does not use the labels on a Boolean series, but what does\n",
    "it do?  Does it throw away the labels and just look at the positions of the\n",
    "True and False values?  Or something else?"
   ]
  },
  {
   "cell_type": "code",
   "execution_count": null,
   "metadata": {
    "tags": [
     "raises-exception"
    ]
   },
   "outputs": [],
   "source": [
    "# iloc indexing with a Boolean series.\n",
    "# The 'country_name' column is the first column,\n",
    "# so it is at offset 0 in the columns.\n",
    "richest_5.iloc[sorted_is_big_spender, 0]"
   ]
  },
  {
   "cell_type": "markdown",
   "metadata": {
    "lines_to_next_cell": 0
   },
   "source": [
    "It does something else - it gives an error, telling us that it will not use the\n",
    "index.   This is so whatever the index - even if the index and the positions\n",
    "give the same answer:\n",
    "\n",
    "<!-- #endregion -->"
   ]
  },
  {
   "cell_type": "code",
   "execution_count": null,
   "metadata": {
    "tags": [
     "raises-exception"
    ]
   },
   "outputs": [],
   "source": [
    "# iloc with the original Boolean series, where positions\n",
    "# and labels match.\n",
    "richest_5.iloc[is_big_spender, 0]"
   ]
  },
  {
   "cell_type": "markdown",
   "metadata": {},
   "source": [
    "If you want to use Boolean indexing with `iloc`, you have to use a Boolean\n",
    "sequence without row / element labels, such as a Numpy array.  In our case, we\n",
    "can achieve that by converting the Boolean Series to a Numpy array, and\n",
    "therefore, throwing away the index (element labels):"
   ]
  },
  {
   "cell_type": "code",
   "execution_count": null,
   "metadata": {},
   "outputs": [],
   "source": [
    "is_big_spender_arr = np.array(is_big_spender)\n",
    "is_big_spender_arr"
   ]
  },
  {
   "cell_type": "markdown",
   "metadata": {},
   "source": [
    "This Boolean sequence will work with `iloc`, because it has no index (element\n",
    "labels) to trip it up:"
   ]
  },
  {
   "cell_type": "code",
   "execution_count": null,
   "metadata": {},
   "outputs": [],
   "source": [
    "# You can use a Boolean array to index rows, with \"iloc\".\n",
    "richest_5.iloc[is_big_spender_arr, 0]"
   ]
  }
 ],
 "metadata": {
  "jupytext": {
   "notebook_metadata_filter": "all,-language_info",
   "split_at_heading": true
  },
  "kernelspec": {
   "display_name": "Python 3",
   "language": "python",
   "name": "python3"
  },
  "language_info": {
   "codemirror_mode": {
    "name": "ipython",
    "version": 3
   },
   "file_extension": ".py",
   "mimetype": "text/x-python",
   "name": "python",
   "nbconvert_exporter": "python",
   "pygments_lexer": "ipython3",
   "version": "3.7.4"
  }
 },
 "nbformat": 4,
 "nbformat_minor": 2
}
