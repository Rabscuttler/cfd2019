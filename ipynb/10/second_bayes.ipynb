{
 "cells": [
  {
   "cell_type": "markdown",
   "metadata": {},
   "source": [
    "In the [reverse probability page](https://matthew-brett.github.io/cfd2019/chapters/10/first_bayes)\n",
    "we played a game with two boxes, with different proportions of red and green\n",
    "balls.\n",
    "\n",
    "The [Bayes bars page](https://matthew-brett.github.io/cfd2019/chapters/10/bayes_bars) has a way of thinking of our calculations for this game, using the height of bars to express our probabilities.\n",
    "\n",
    "Now we extend the game to more options.\n",
    "\n",
    "Now I have five boxes:\n",
    "\n",
    "* box1 has one red ball and four green balls.\n",
    "* box2 has two red balls and three green balls.\n",
    "* box3 has three red balls and two green balls.\n",
    "* box4 has four red balls and one green ball.\n",
    "* box5 has five red balls.\n",
    "\n",
    "* I offer you one of these five boxes at random, without telling you which.\n",
    "* You draw a ball at random from the box, and you get a red ball.\n",
    "* Now, what is the probability that I gave you box4?\n",
    "\n",
    "We can solve this by simulation, of course, but lets solve it using the bars from the [Bayes bars page](https://matthew-brett.github.io/cfd2019/chapters/10/bayes_bars).\n",
    "\n",
    "First we express the initial probabilities of getting the five boxes:"
   ]
  },
  {
   "cell_type": "code",
   "execution_count": null,
   "metadata": {},
   "outputs": [],
   "source": [
    "import numpy as np\n",
    "import matplotlib.pyplot as plt\n",
    "%matplotlib inline"
   ]
  },
  {
   "cell_type": "code",
   "execution_count": null,
   "metadata": {},
   "outputs": [],
   "source": [
    "box_probabilities = np.repeat(1 / 5, 5)\n",
    "x_locations = np.arange(5)\n",
    "box_labels = ['box1', 'box2', 'box3', 'box4', 'box5']\n",
    "plt.bar(x_locations, box_probabilities)\n",
    "plt.xticks(x_locations, box_labels)\n",
    "plt.ylabel(\"Probability of getting box\")\n",
    "plt.title('Initial probability of boxes');"
   ]
  },
  {
   "cell_type": "markdown",
   "metadata": {},
   "source": [
    "Next we express the initial probabilities of getting a red ball from boxes 1 through 5:"
   ]
  },
  {
   "cell_type": "code",
   "execution_count": null,
   "metadata": {},
   "outputs": [],
   "source": [
    "red_probabilities = np.array([1, 2, 3, 4, 5]) / 5\n",
    "plt.bar(x_locations, red_probabilities)\n",
    "plt.xticks(x_locations, box_labels)\n",
    "plt.ylabel(\"Probability of getting red ball\")\n",
    "plt.title('Probability of getting red for each box');"
   ]
  },
  {
   "cell_type": "markdown",
   "metadata": {},
   "source": [
    "Next we combine the two steps, of getting a box, and then drawing a ball.\n",
    "\n",
    "As before, we do this by multiplying the values expressed by heights in the\n",
    "first bar graph, by the values expressed by heights in the second bar graph."
   ]
  },
  {
   "cell_type": "code",
   "execution_count": null,
   "metadata": {},
   "outputs": [],
   "source": [
    "box_and_red_probs = box_probabilities * red_probabilities\n",
    "plt.bar(x_locations, box_and_red_probs)\n",
    "plt.xticks(x_locations, box_labels)\n",
    "plt.ylabel(\"Probability of getting red ball and the given box\")\n",
    "plt.title('Probability of getting red and each box');"
   ]
  },
  {
   "cell_type": "markdown",
   "metadata": {},
   "source": [
    "In this case, as before, where all the initial probabilities of the boxes are\n",
    "the same, this last bar graph is just the second bar graph scaled down by 1/5."
   ]
  },
  {
   "cell_type": "markdown",
   "metadata": {},
   "source": [
    "Lastly, remember we are interested in the probability that we started with box4, given we have a red ball.\n",
    "\n",
    "To get this probability, we first take the probability of getting a red ball *and* box4.  This is the fourth bar on the graph above - 0.2 * 0.8 = 0.4.\n",
    "\n",
    "Next we divide by the overall probability of getting a red ball, which is the sum of the heights of the five bars above.\n",
    "\n",
    "We can do this calculation by dividing the heights of the bars above by the sum of the heights, so the heights of the bars now sum to 1.\n",
    "\n",
    "The sum of the heights is:"
   ]
  },
  {
   "cell_type": "code",
   "execution_count": null,
   "metadata": {},
   "outputs": [],
   "source": [
    "# Overall probability of getting a red ball.\n",
    "np.sum(box_and_red_probs)"
   ]
  },
  {
   "cell_type": "markdown",
   "metadata": {},
   "source": [
    "Here are the bars divided by this sum:"
   ]
  },
  {
   "cell_type": "code",
   "execution_count": null,
   "metadata": {},
   "outputs": [],
   "source": [
    "box_given_red_probs = box_and_red_probs / np.sum(box_and_red_probs)\n",
    "plt.bar(x_locations, box_given_red_probs)\n",
    "plt.xticks(x_locations, box_labels)\n",
    "plt.ylabel(\"Probability of box given a red ball\")\n",
    "plt.title('Probability of initial box given red ball drawn');"
   ]
  }
 ],
 "metadata": {
  "jupytext": {
   "notebook_metadata_filter": "all,-language_info",
   "split_at_heading": true,
   "text_representation": {
    "extension": ".Rmd",
    "format_name": "rmarkdown",
    "format_version": "1.1",
    "jupytext_version": "1.2.4"
   }
  },
  "kernelspec": {
   "display_name": "Python 3",
   "language": "python",
   "name": "python3"
  },
  "language_info": {
   "codemirror_mode": {
    "name": "ipython",
    "version": 3
   },
   "file_extension": ".py",
   "mimetype": "text/x-python",
   "name": "python",
   "nbconvert_exporter": "python",
   "pygments_lexer": "ipython3",
   "version": "3.7.6"
  }
 },
 "nbformat": 4,
 "nbformat_minor": 2
}
