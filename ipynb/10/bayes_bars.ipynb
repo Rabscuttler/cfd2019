{
 "cells": [
  {
   "cell_type": "markdown",
   "metadata": {},
   "source": [
    "The [reverse probability page](first_bayes) has a game, that we analyzed by simulation, and then by reflection.\n",
    "\n",
    "The game is:\n",
    "\n",
    "* I have two boxes; *box4* with 4 red balls and 1 green ball, and *box2* with\n",
    "  two red balls and three green balls.\n",
    "* I offer you one of these two boxes at random, without telling you which.\n",
    "* You draw a ball at random from the box, and you get a red ball.\n",
    "* What is the probability that I gave you box4?\n",
    "\n",
    "We found by simulation, and later by reflection, that the probability is 0.67.\n",
    "\n",
    "The logic we discovered was:\n",
    "\n",
    "* We want the proportion of \"red\" trials that came from box4.\n",
    "* Calculate the proportion of trials that are *both* box4 and red, and divide\n",
    "  by the overall proportion of red trials.\n",
    "* The proportion of red trials that are *both* box4 *and* red is the\n",
    "  proportion of box4 trials multiplied by (the proportion of box4 trials that\n",
    "  are red).\n",
    "\n",
    "This is another way to express that logic, using the height of bars to express\n",
    "the probabilities.\n",
    "\n",
    "First we express the initial probabilities of getting box4 and box2:"
   ]
  },
  {
   "cell_type": "code",
   "execution_count": null,
   "metadata": {},
   "outputs": [],
   "source": [
    "import numpy as np\n",
    "import matplotlib.pyplot as plt\n",
    "%matplotlib inline"
   ]
  },
  {
   "cell_type": "code",
   "execution_count": null,
   "metadata": {},
   "outputs": [],
   "source": [
    "box_probabilities = np.array([0.5, 0.5])\n",
    "x_locations = [0, 1]\n",
    "box_labels = ['box4', 'box2']\n",
    "plt.bar(x_locations, box_probabilities)\n",
    "plt.xticks(x_locations, box_labels)\n",
    "plt.ylabel(\"Probability of getting box\")\n",
    "plt.title('Initial probability of boxes');"
   ]
  },
  {
   "cell_type": "markdown",
   "metadata": {},
   "source": [
    "Next we express the initial probabilities of getting a red ball from box4 and from box2:"
   ]
  },
  {
   "cell_type": "code",
   "execution_count": null,
   "metadata": {},
   "outputs": [],
   "source": [
    "red_probabilities = np.array([0.8, 0.4])\n",
    "plt.bar(x_locations, red_probabilities)\n",
    "plt.xticks(x_locations, box_labels)\n",
    "plt.ylabel(\"Probability of getting red ball\")\n",
    "plt.title('Probability of getting red for each box');"
   ]
  },
  {
   "cell_type": "markdown",
   "metadata": {},
   "source": [
    "Next we combine the two steps, of getting a box, and then drawing a ball.\n",
    "\n",
    "There is a 0.5 probability of box4 and a 0.8 probability of a red ball, given we have box4, so the probability of box4 *and* a red ball is 0.5 (for box4) * 0.8 (for red given box4) = 0.4.\n",
    "\n",
    "Similarly, the probability of box2 *and* a red ball is 0.5 (for box2) * 0.4 (for red given box2) = 0.2.\n",
    "\n",
    "We can think of this as multiplying the values expressed by heights in the first bar graph (0.5, and 0.5 in this case), by the values expressed by heights in the second bar graph (0.8 and 0.4 in this case)."
   ]
  },
  {
   "cell_type": "code",
   "execution_count": null,
   "metadata": {},
   "outputs": [],
   "source": [
    "box_and_red_probs = box_probabilities * red_probabilities\n",
    "plt.bar(x_locations, box_and_red_probs)\n",
    "plt.xticks(x_locations, box_labels)\n",
    "plt.ylabel(\"Probability of getting red ball and the given box\")\n",
    "plt.title('Probability of getting red and each box');"
   ]
  },
  {
   "cell_type": "markdown",
   "metadata": {},
   "source": [
    "In this case where the initial probabilities of the boxes are 0.5, this last bar graph is just the second bar graph scaled down by 0.5."
   ]
  },
  {
   "cell_type": "markdown",
   "metadata": {},
   "source": [
    "Lastly, remember we are interested in the probability that we started with box4, given we have a red ball.\n",
    "\n",
    "To get this probability, we first take the probability of getting a red ball *and* box4.  This is the first bar on the graph above - 0.5 * 0.8 = 0.4.\n",
    "\n",
    "Next we divide by the overall probability of getting a red ball, which is the sum of the heights of the two bars above - 0.4 + 0.2 = 0.6.\n",
    "\n",
    "We can do this calculation by dividing the heights of the bars above by the sum of the heights, so the heights of the bars now sum to 1:"
   ]
  },
  {
   "cell_type": "code",
   "execution_count": null,
   "metadata": {},
   "outputs": [],
   "source": [
    "box_given_red_probs = box_and_red_probs / np.sum(box_and_red_probs)\n",
    "plt.bar(x_locations, box_given_red_probs)\n",
    "plt.xticks(x_locations, box_labels)\n",
    "plt.ylabel(\"Probability of box given a red ball\")\n",
    "plt.title('Probability of initial box given red ball drawn');"
   ]
  },
  {
   "cell_type": "markdown",
   "metadata": {},
   "source": [
    "The left bar is our familiar (0.5 * 0.8) / 0.6 value, from the [reverse probability page](first_bayes).  It is probability that we were given box4, given that we have drawn a red ball.  The second bar is the probability that we were given box2, given we have drawn a red ball.  Note that the height of the bars sums to 1."
   ]
  }
 ],
 "metadata": {
  "jupytext": {
   "notebook_metadata_filter": "all,-language_info",
   "split_at_heading": true,
   "text_representation": {
    "extension": ".Rmd",
    "format_name": "rmarkdown",
    "format_version": "1.1",
    "jupytext_version": "1.2.4"
   }
  },
  "kernelspec": {
   "display_name": "Python 3",
   "language": "python",
   "name": "python3"
  },
  "language_info": {
   "codemirror_mode": {
    "name": "ipython",
    "version": 3
   },
   "file_extension": ".py",
   "mimetype": "text/x-python",
   "name": "python",
   "nbconvert_exporter": "python",
   "pygments_lexer": "ipython3",
   "version": "3.7.6"
  }
 },
 "nbformat": 4,
 "nbformat_minor": 2
}
