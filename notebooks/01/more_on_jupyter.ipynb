{
 "cells": [
  {
   "cell_type": "markdown",
   "metadata": {},
   "source": [
    "As you heard in [about the software](the_software), Jupyter is an *interface* that allows you to run Python code and see the results.\n",
    "\n",
    "It consists of two parts:\n",
    "\n",
    "* The web client (the thing you are looking at now, if you are running this\n",
    "  notebook in Jupyter);\n",
    "* The kernel (that does the work of running code, and generating results).\n",
    "\n",
    "For example, consider this cell, where I make a new variable `a`, and display the value of `a`:"
   ]
  },
  {
   "cell_type": "code",
   "execution_count": 1,
   "metadata": {},
   "outputs": [
    {
     "data": {
      "text/plain": [
       "10.5"
      ]
     },
     "execution_count": 1,
     "metadata": {},
     "output_type": "execute_result"
    }
   ],
   "source": [
    "a = 10.50\n",
    "a"
   ]
  },
  {
   "cell_type": "markdown",
   "metadata": {},
   "source": [
    "I type this code in the web client.\n",
    "\n",
    "When I press Shift-Enter, or Run the cell via the web interface, this sends a *message* to the *kernel*.\n",
    "\n",
    "The message says something like:\n",
    "\n",
    "> Here is some Python code: \"a = 1\" and \"a\".  Run this code, and show me any\n",
    "> results.\n",
    "\n",
    "The kernel accepts the message, runs the code in Python, and then sends back any results, in this case, as text to display (the text representation of the value 10.50).\n",
    "\n",
    "The web client shows the results.\n",
    "\n",
    "## The prompts\n",
    "\n",
    "Notice the prompts for the code cells.  Before I have run the cell, there is an empty prompt, like this `In [ ]:`.  `In` means \"Input\", meaning, this is a cell where you input code."
   ]
  },
  {
   "cell_type": "code",
   "execution_count": 2,
   "metadata": {},
   "outputs": [],
   "source": [
    "b = 9.25"
   ]
  },
  {
   "cell_type": "markdown",
   "metadata": {},
   "source": [
    "Then, when you run the cell, the prompt changes to something like `In [1]:` where 1 means this is the first piece of code that the kernel ran.\n",
    "\n",
    "If there is any output, you will now see the *output* from that cell, with a prefix `Out [1]:` where 1 is the same number as the number for the input cell.  This is output from the first piece of code that the kernel ran.\n",
    "\n",
    "In the next part of the notebook, we will play with the kernel.  Watch the board while I go through it."
   ]
  }
 ],
 "metadata": {
  "jupytext": {
   "notebook_metadata_filter": "all,-language_info"
  },
  "kernelspec": {
   "display_name": "Python 3",
   "language": "python",
   "name": "python3"
  },
  "language_info": {
   "codemirror_mode": {
    "name": "ipython",
    "version": 3
   },
   "file_extension": ".py",
   "mimetype": "text/x-python",
   "name": "python",
   "nbconvert_exporter": "python",
   "pygments_lexer": "ipython3",
   "version": "3.7.1"
  }
 },
 "nbformat": 4,
 "nbformat_minor": 2
}
